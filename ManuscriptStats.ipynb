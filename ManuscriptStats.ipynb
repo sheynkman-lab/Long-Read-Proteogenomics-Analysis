{
 "cells": [
  {
   "cell_type": "markdown",
   "metadata": {},
   "source": [
    "# Enhanced protein isoform characterization through long-read proteogenomics \n",
    "## Miscellaneous manuscript statistics\n",
    "#### Ben Jordan"
   ]
  },
  {
   "cell_type": "code",
   "execution_count": 1,
   "metadata": {},
   "outputs": [],
   "source": [
    "import pandas as pd\n",
    "import config \n",
    "import data_loader"
   ]
  },
  {
   "cell_type": "code",
   "execution_count": 2,
   "metadata": {},
   "outputs": [],
   "source": [
    "\n",
    "filtered_protein_file = f'{config.PIPELINE_RESULTS_DIRECTORY}/protein_filter/{config.EXPERIMENT_NAME}.classification_filtered.tsv' # filtered protein file\n",
    "protein_db = pd.read_table(filtered_protein_file)\n",
    "\n",
    "with open(\"stats/manuscript_sqanti_protein_num_protein_isoforms_and_genes.txt\",\"w\") as ofile:\n",
    "    ofile.write(f\"Number of protein isoforms found\\t{len(protein_db)}\\n\")\n",
    "    ofile.write(f\"Number of genes found\\t\\t\\t{len(protein_db['pr_gene'].unique())}\\n\")"
   ]
  },
  {
   "cell_type": "code",
   "execution_count": 3,
   "metadata": {},
   "outputs": [],
   "source": [
    "with open(f\"stats/manuscript_high_confidence_numbers.txt\", \"w\") as ofile:\n",
    "    ofile.write(f\"Number of high confidence protein isoforms\\t{len(data_loader.accs_in_hiconf_space)}\\n\")\n",
    "    ofile.write(f\"Number of high confidence genes\\t{len(data_loader.genes_in_hiconf_space)}\\n\")"
   ]
  },
  {
   "cell_type": "code",
   "execution_count": null,
   "metadata": {},
   "outputs": [],
   "source": []
  }
 ],
 "metadata": {
  "interpreter": {
   "hash": "881fb57dbf4e06d06560f60b9634050b68a361a8a6120526ec157f8aab4b976e"
  },
  "kernelspec": {
   "display_name": "Python 3.8.8 64-bit ('lrpg': conda)",
   "name": "python3"
  },
  "language_info": {
   "codemirror_mode": {
    "name": "ipython",
    "version": 3
   },
   "file_extension": ".py",
   "mimetype": "text/x-python",
   "name": "python",
   "nbconvert_exporter": "python",
   "pygments_lexer": "ipython3",
   "version": "3.8.8"
  },
  "orig_nbformat": 4
 },
 "nbformat": 4,
 "nbformat_minor": 2
}
