{
 "metadata": {
  "language_info": {
   "codemirror_mode": {
    "name": "ipython",
    "version": 3
   },
   "file_extension": ".py",
   "mimetype": "text/x-python",
   "name": "python",
   "nbconvert_exporter": "python",
   "pygments_lexer": "ipython3",
   "version": "3.8.8"
  },
  "orig_nbformat": 4,
  "kernelspec": {
   "name": "python3",
   "display_name": "Python 3.8.8 64-bit ('lrpg': conda)"
  },
  "interpreter": {
   "hash": "881fb57dbf4e06d06560f60b9634050b68a361a8a6120526ec157f8aab4b976e"
  }
 },
 "nbformat": 4,
 "nbformat_minor": 2,
 "cells": [
  {
   "source": [
    "# Enhanced protein isoform characterization through long-read proteogenomics \n",
    "## Supplementary Table 6\n",
    "---\n",
    "Ben Jordan"
   ],
   "cell_type": "markdown",
   "metadata": {}
  },
  {
   "cell_type": "code",
   "execution_count": 1,
   "metadata": {},
   "outputs": [],
   "source": [
    "import data_loader\n",
    "import config\n",
    "import pandas as pd\n",
    "PG = data_loader.ProteinGroup()\n"
   ]
  },
  {
   "cell_type": "code",
   "execution_count": 2,
   "metadata": {},
   "outputs": [],
   "source": [
    "refined_file = f'{config.PIPELINE_RESULTS_DIRECTORY}/protein_gene_rename/jurkat_orf_refined_gene_update.tsv'\n",
    "\n",
    "cpm_data = pd.read_table(refined_file, usecols=['base_acc', 'pr_gene','CPM'])\n",
    "cpm_data = cpm_data[cpm_data['base_acc'].isin(data_loader.accs_in_hiconf_space)]\n",
    "acc_cpm = pd.Series(cpm_data.CPM.values,index=cpm_data.base_acc).to_dict()\n",
    "gene_cpm = cpm_data.groupby('pr_gene')['CPM'].sum().reset_index()\n",
    "gene_cpm = pd.Series(gene_cpm.CPM.values,index=gene_cpm.pr_gene).to_dict()"
   ]
  },
  {
   "source": [
    "## Rescued Groups"
   ],
   "cell_type": "markdown",
   "metadata": {}
  },
  {
   "cell_type": "code",
   "execution_count": 3,
   "metadata": {},
   "outputs": [],
   "source": [
    "def get_all_hybrid_protein_group(protein_groups_filename, gene_map):\n",
    "    protein_groups = (\n",
    "        pd.read_table(\n",
    "            protein_groups_filename,\n",
    "            index_col=False,\n",
    "            usecols=[0,1,5,6,7,8,9,16,19], \n",
    "            names=['protein_group','pg_gene','num_proteins_in_group','unique_peptides','shared_peptides','number_of_peptides','number_of_unique_peptides','dct','qval'], \n",
    "            skiprows=1)\n",
    "        .query('dct == \"T\"')\n",
    "    )\n",
    "    protein_groups['accs'] = protein_groups['protein_group'].str.split('|')\n",
    "    protein_groups['genes']= protein_groups['protein_group'].apply(lambda pgroup: data_loader.get_genes_in_protein_group(pgroup, gene_map))\n",
    "    protein_groups['is_high_confidence'] = protein_groups['accs'].apply(lambda accs: data_loader.is_high_confidence(accs, data_loader.accs_in_hiconf_space))\n",
    "    protein_groups= protein_groups.set_index('protein_group')\n",
    "    return protein_groups\n",
    "\n",
    "def table_rescued_groups(rescue_resolve_protein_groups, hybrid_protein_groups,acc_cpm, gene_cpm ):\n",
    "    hybrid_group_accs = set(hybrid_protein_groups.index)\n",
    "    \n",
    "    rr_group_accs = set(rescue_resolve_protein_groups.index)\n",
    "    rescued_group_accs = rr_group_accs - hybrid_group_accs\n",
    "    rescued_groups = rescue_resolve_protein_groups.loc[rescued_group_accs]\n",
    "    rescued_groups['absolute_CPM']= rescued_groups['accs'].apply(lambda accs: [round(acc_cpm[x],2) if x in acc_cpm.keys() else 0 for x in accs]  )\n",
    "    rescued_groups['total_CPM'] = rescued_groups['absolute_CPM'].apply(lambda cpm: round(sum(cpm),2))\n",
    "    rescued_groups['relative_CPM'] = rescued_groups.apply(lambda row: [round(abs_cpm/row['total_CPM'],2) for abs_cpm in row['absolute_CPM']],axis=1)\n",
    "    rescued_groups['absolute_CPM'] = rescued_groups['absolute_CPM'].apply(lambda cpm: '|'.join([str(x) for x in cpm]))\n",
    "\n",
    "    rescued_groups = rescued_groups.reset_index()\n",
    "    rescued_groups = rescued_groups[['pg_gene','protein_group','absolute_CPM']]\n",
    "    rescued_groups = rescued_groups.rename(columns = {\n",
    "        'pg_gene' : 'Genes',\n",
    "        'protein_group' : 'Protein Group',\n",
    "        'absolute_CPM' : 'Absolute CPM',\n",
    "    }) \n",
    "    rescued_groups.to_csv('stats/SuppTable6_rescue.tsv', sep='\\t', index=False)\n",
    "    return rescued_groups\n",
    "\n",
    "    \n",
    "pacbio_rescue_resolve_protein_group = PG.pacbio_rescue_resolve_protein_group.set_index('protein_group')\n",
    "pacbio_rescue_resolve_protein_group = pacbio_rescue_resolve_protein_group[pacbio_rescue_resolve_protein_group['is_high_confidence']]\n",
    "pacbio_hybrid_protein_group = get_all_hybrid_protein_group(data_loader.pacbio_hybrid_protein_group_file, data_loader.hybrid_gene_map)\n",
    "rescued_table = table_rescued_groups(pacbio_rescue_resolve_protein_group, pacbio_hybrid_protein_group, acc_cpm, gene_cpm)"
   ]
  },
  {
   "source": [
    "## Resolved Table"
   ],
   "cell_type": "markdown",
   "metadata": {}
  },
  {
   "cell_type": "code",
   "execution_count": 4,
   "metadata": {},
   "outputs": [],
   "source": [
    "def get_relative_cpm(row, accession_cpm):\n",
    "    absolute_cpm = [accession_cpm[acc] if acc in accession_cpm.keys() else 0 for acc in row['accs']]\n",
    "    total_cpm = sum(absolute_cpm)\n",
    "    if total_cpm > 0:\n",
    "        relative_cpm = [cpm / total_cpm for cpm in absolute_cpm]\n",
    "    else:\n",
    "        relative_cpm = [0 for cpm in absolute_cpm]\n",
    "    return relative_cpm\n",
    "\n",
    "\n",
    "def get_resolved_accession(row, rescue_threshold = 0.9):\n",
    "    if row['num_proteins_in_group'] == 1:\n",
    "        return 'X'\n",
    "    for acc, relative_cpm in zip(row['accs'], row['Relative CPM abundances']):\n",
    "        if relative_cpm > rescue_threshold:\n",
    "            return acc\n",
    "    return 'X'\n",
    "\n",
    "def table_resolve(rescue_resolve_protein_groups, accession_cpm):\n",
    "    rescue_resolve_protein_groups['Relative CPM abundances'] = rescue_resolve_protein_groups.apply(lambda row: get_relative_cpm(row, accession_cpm), axis = 1)\n",
    "    rescue_resolve_protein_groups['Resolved Accession'] = rescue_resolve_protein_groups.apply(get_resolved_accession, axis = 1)\n",
    "    rescue_resolve_protein_groups['Is Resolved'] = rescue_resolve_protein_groups['Resolved Accession'].apply(lambda x: 'YES' if x != 'X' else 'NO')\n",
    "    rescue_resolve_protein_groups.rename(columns = {\n",
    "        'protein_group' : 'Protein Group (original)',\n",
    "        'pg_gene': 'Genes'\n",
    "    }, inplace=True)\n",
    "    rescue_resolve_protein_groups['Relative CPM abundances'] = rescue_resolve_protein_groups['Relative CPM abundances'].apply(lambda vals: [round(x,2) for x in vals])\n",
    "    rescue_resolve_protein_groups = rescue_resolve_protein_groups[['Protein Group (original)', 'Genes', 'Relative CPM abundances', 'Resolved Accession', 'Is Resolved']]\n",
    "    rescue_resolve_protein_groups['Relative CPM abundances'] = rescue_resolve_protein_groups['Relative CPM abundances'].apply(lambda vals: [str(x) for x in vals])\n",
    "    rescue_resolve_protein_groups['Relative CPM abundances'] = rescue_resolve_protein_groups['Relative CPM abundances'].apply(lambda vals: '|'.join(vals))\n",
    "    rescue_resolve_protein_groups.to_csv('stats/SuppTable6_resolve.tsv', sep='\\t', index=False)\n",
    "    return rescue_resolve_protein_groups\n",
    "\n",
    "def are_all_pb(accs):\n",
    "    for acc in accs:\n",
    "        if not acc.startswith('PB'):\n",
    "            return False\n",
    "    return True"
   ]
  },
  {
   "cell_type": "code",
   "execution_count": 5,
   "metadata": {},
   "outputs": [
    {
     "output_type": "stream",
     "name": "stderr",
     "text": [
      "<ipython-input-4-217752346580>:29: SettingWithCopyWarning: \nA value is trying to be set on a copy of a slice from a DataFrame.\nTry using .loc[row_indexer,col_indexer] = value instead\n\nSee the caveats in the documentation: https://pandas.pydata.org/pandas-docs/stable/user_guide/indexing.html#returning-a-view-versus-a-copy\n  rescue_resolve_protein_groups['Relative CPM abundances'] = rescue_resolve_protein_groups['Relative CPM abundances'].apply(lambda vals: [str(x) for x in vals])\n<ipython-input-4-217752346580>:30: SettingWithCopyWarning: \nA value is trying to be set on a copy of a slice from a DataFrame.\nTry using .loc[row_indexer,col_indexer] = value instead\n\nSee the caveats in the documentation: https://pandas.pydata.org/pandas-docs/stable/user_guide/indexing.html#returning-a-view-versus-a-copy\n  rescue_resolve_protein_groups['Relative CPM abundances'] = rescue_resolve_protein_groups['Relative CPM abundances'].apply(lambda vals: '|'.join(vals))\n"
     ]
    }
   ],
   "source": [
    "pacbio_rescue_resolve_protein_group = PG.pacbio_rescue_resolve_protein_group\n",
    "pacbio_rescue_resolve_protein_group['all_pb'] = pacbio_rescue_resolve_protein_group['accs'].apply(are_all_pb)\n",
    "pacbio_rescue_resolve_protein_group = pacbio_rescue_resolve_protein_group[pacbio_rescue_resolve_protein_group['all_pb']]\n",
    "pacbio_rescue_resolve_protein_group = pacbio_rescue_resolve_protein_group[pacbio_rescue_resolve_protein_group['num_proteins_in_group'] > 1]\n",
    "\n",
    "# pacbio_rescue_resolve_protein_group = pacbio_rescue_resolve_protein_group[pacbio_rescue_resolve_protein_group['protein_group'].str.contains('|')]\n",
    "# pacbio_rescue_resolve_protein_group = pacbio_rescue_resolve_protein_group[pacbio_rescue_resolve_protein_group['is_high_confidence']]\n",
    "resolved_table = table_resolve(pacbio_rescue_resolve_protein_group.copy(), acc_cpm)"
   ]
  },
  {
   "cell_type": "code",
   "execution_count": 6,
   "metadata": {},
   "outputs": [
    {
     "output_type": "execute_result",
     "data": {
      "text/plain": [
       "      Genes Protein Group Absolute CPM\n",
       "0    IFNAR2   PB.15763.27        40.06\n",
       "1     HMGN2      PB.290.1      4168.55\n",
       "2      DNTT    PB.8755.10        52.87\n",
       "3    ZNF512     PB.1833.9        58.87\n",
       "4    CHI3L2     PB.831.39        29.71\n",
       "..      ...           ...          ...\n",
       "350   ZWINT    PB.8539.24        39.52\n",
       "351   SRSF1    PB.13660.1        48.51\n",
       "352   BCCIP     PB.8955.7        48.24\n",
       "353   RNF40   PB.12557.19        82.85\n",
       "354  ECHDC1     PB.6026.6        32.98\n",
       "\n",
       "[355 rows x 3 columns]"
      ],
      "text/html": "<div>\n<style scoped>\n    .dataframe tbody tr th:only-of-type {\n        vertical-align: middle;\n    }\n\n    .dataframe tbody tr th {\n        vertical-align: top;\n    }\n\n    .dataframe thead th {\n        text-align: right;\n    }\n</style>\n<table border=\"1\" class=\"dataframe\">\n  <thead>\n    <tr style=\"text-align: right;\">\n      <th></th>\n      <th>Genes</th>\n      <th>Protein Group</th>\n      <th>Absolute CPM</th>\n    </tr>\n  </thead>\n  <tbody>\n    <tr>\n      <th>0</th>\n      <td>IFNAR2</td>\n      <td>PB.15763.27</td>\n      <td>40.06</td>\n    </tr>\n    <tr>\n      <th>1</th>\n      <td>HMGN2</td>\n      <td>PB.290.1</td>\n      <td>4168.55</td>\n    </tr>\n    <tr>\n      <th>2</th>\n      <td>DNTT</td>\n      <td>PB.8755.10</td>\n      <td>52.87</td>\n    </tr>\n    <tr>\n      <th>3</th>\n      <td>ZNF512</td>\n      <td>PB.1833.9</td>\n      <td>58.87</td>\n    </tr>\n    <tr>\n      <th>4</th>\n      <td>CHI3L2</td>\n      <td>PB.831.39</td>\n      <td>29.71</td>\n    </tr>\n    <tr>\n      <th>...</th>\n      <td>...</td>\n      <td>...</td>\n      <td>...</td>\n    </tr>\n    <tr>\n      <th>350</th>\n      <td>ZWINT</td>\n      <td>PB.8539.24</td>\n      <td>39.52</td>\n    </tr>\n    <tr>\n      <th>351</th>\n      <td>SRSF1</td>\n      <td>PB.13660.1</td>\n      <td>48.51</td>\n    </tr>\n    <tr>\n      <th>352</th>\n      <td>BCCIP</td>\n      <td>PB.8955.7</td>\n      <td>48.24</td>\n    </tr>\n    <tr>\n      <th>353</th>\n      <td>RNF40</td>\n      <td>PB.12557.19</td>\n      <td>82.85</td>\n    </tr>\n    <tr>\n      <th>354</th>\n      <td>ECHDC1</td>\n      <td>PB.6026.6</td>\n      <td>32.98</td>\n    </tr>\n  </tbody>\n</table>\n<p>355 rows × 3 columns</p>\n</div>"
     },
     "metadata": {},
     "execution_count": 6
    }
   ],
   "source": [
    "rescued_table"
   ]
  },
  {
   "cell_type": "code",
   "execution_count": 9,
   "metadata": {},
   "outputs": [
    {
     "output_type": "execute_result",
     "data": {
      "text/plain": [
       "Is Resolved\n",
       "NO     1163\n",
       "YES    1434\n",
       "dtype: int64"
      ]
     },
     "metadata": {},
     "execution_count": 9
    }
   ],
   "source": [
    "resolved_table.groupby('Is Resolved').size()"
   ]
  },
  {
   "cell_type": "code",
   "execution_count": 8,
   "metadata": {},
   "outputs": [],
   "source": [
    "with pd.ExcelWriter('stats/SuppTable6.xlsx') as writer:\n",
    "    rescued_table.to_excel(writer, sheet_name = 'Rescued Groups', index=False)\n",
    "    resolved_table.to_excel(writer, sheet_name= 'Resolved Groups', index=False)"
   ]
  },
  {
   "cell_type": "code",
   "execution_count": null,
   "metadata": {},
   "outputs": [],
   "source": []
  }
 ]
}