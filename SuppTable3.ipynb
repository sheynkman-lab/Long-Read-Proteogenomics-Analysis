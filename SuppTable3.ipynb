{
 "metadata": {
  "language_info": {
   "codemirror_mode": {
    "name": "ipython",
    "version": 3
   },
   "file_extension": ".py",
   "mimetype": "text/x-python",
   "name": "python",
   "nbconvert_exporter": "python",
   "pygments_lexer": "ipython3",
   "version": "3.8.8"
  },
  "orig_nbformat": 4,
  "kernelspec": {
   "name": "python3",
   "display_name": "Python 3.8.8 64-bit ('lrpg': conda)"
  },
  "interpreter": {
   "hash": "881fb57dbf4e06d06560f60b9634050b68a361a8a6120526ec157f8aab4b976e"
  }
 },
 "nbformat": 4,
 "nbformat_minor": 2,
 "cells": [
  {
   "source": [
    "# Enhanced protein isoform characterization through long-read proteogenomics \n",
    "## Supplementary Table 3\n",
    "---\n",
    "Ben Jordan"
   ],
   "cell_type": "markdown",
   "metadata": {}
  },
  {
   "cell_type": "code",
   "execution_count": 1,
   "metadata": {},
   "outputs": [],
   "source": [
    "import pandas as pd\n",
    "import config, data_loader\n"
   ]
  },
  {
   "cell_type": "code",
   "execution_count": 2,
   "metadata": {},
   "outputs": [],
   "source": [
    "\n",
    "peptide = data_loader.Peptide()\n",
    "protein_group = data_loader.ProteinGroup()"
   ]
  },
  {
   "cell_type": "code",
   "execution_count": 3,
   "metadata": {},
   "outputs": [],
   "source": [
    "def get_genes(pg):\n",
    "    genes = set()\n",
    "    for g in pg['genes']:\n",
    "        g = set(g)\n",
    "        genes = genes.union(g)\n",
    "    return genes\n"
   ]
  },
  {
   "source": [
    "#### All protein coding genes"
   ],
   "cell_type": "markdown",
   "metadata": {}
  },
  {
   "cell_type": "code",
   "execution_count": 4,
   "metadata": {},
   "outputs": [],
   "source": [
    "# All Protein coding genes\n",
    "supp_table_3 = pd.DataFrame(columns = ['Protein database', 'Peptides', 'Protein Groups', 'Genes', 'Gene space'])\n",
    "\n",
    "row = {\n",
    "    'Protein database' : 'GENCODE',\n",
    "    'Peptides' : len(peptide.gencode_peptide),\n",
    "    'Protein Groups' : len(protein_group.gencode_protein_group),\n",
    "    'Genes' : len(get_genes(protein_group.gencode_protein_group)),\n",
    "    'Gene space' : 'All protein-coding genes'\n",
    "}\n",
    "supp_table_3 = supp_table_3.append(row, ignore_index=True)\n",
    "\n",
    "row = {\n",
    "    'Protein database' : 'UniProt',\n",
    "    'Peptides' : len(peptide.uniprot_peptide),\n",
    "    'Protein Groups' : len(protein_group.uniprot_protein_group),\n",
    "    'Genes' : len(get_genes(protein_group.uniprot_protein_group)),\n",
    "    'Gene space' : 'All protein-coding genes'\n",
    "}\n",
    "supp_table_3 = supp_table_3.append(row, ignore_index=True)\n",
    "\n",
    "\n",
    "row = {\n",
    "    'Protein database' : 'PacBio Hybrid',\n",
    "    'Peptides' : len(peptide.pacbio_hybrid_peptide),\n",
    "    'Protein Groups' : len(protein_group.pacbio_hybrid_protein_group),\n",
    "    'Genes' : len(get_genes(protein_group.pacbio_hybrid_protein_group)),\n",
    "    'Gene space' : 'All protein-coding genes'\n",
    "}\n",
    "supp_table_3 = supp_table_3.append(row, ignore_index=True)\n"
   ]
  },
  {
   "source": [
    "#### High Confidence Region"
   ],
   "cell_type": "markdown",
   "metadata": {}
  },
  {
   "cell_type": "code",
   "execution_count": 5,
   "metadata": {},
   "outputs": [],
   "source": [
    "hc_pep = peptide.gencode_peptide[peptide.gencode_peptide['is_high_confidence']]\n",
    "hc_pg = protein_group.gencode_protein_group[protein_group.gencode_protein_group['is_high_confidence']]\n",
    "hc_genes = data_loader.genes_in_hiconf_space.intersection(get_genes(hc_pg))\n",
    "row = {\n",
    "    'Protein database' : 'GENCODE',\n",
    "    'Peptides' : len(hc_pep),\n",
    "    'Protein Groups' : len(hc_pg),\n",
    "    'Genes' : len(hc_genes),\n",
    "    'Gene space' : 'High confidence space (HC space)'\n",
    "}\n",
    "supp_table_3 = supp_table_3.append(row, ignore_index=True)\n",
    "\n",
    "\n",
    "hc_pep = peptide.uniprot_peptide[peptide.uniprot_peptide['is_high_confidence']]\n",
    "hc_pg = protein_group.uniprot_protein_group[protein_group.uniprot_protein_group['is_high_confidence']]\n",
    "hc_genes = data_loader.genes_in_hiconf_space.intersection(get_genes(hc_pg))\n",
    "row = {\n",
    "    'Protein database' : 'UniProt',\n",
    "    'Peptides' : len(hc_pep),\n",
    "    'Protein Groups' : len(hc_pg),\n",
    "    'Genes' : len(hc_genes),\n",
    "    'Gene space' : 'High confidence space (HC space)'\n",
    "}\n",
    "supp_table_3 = supp_table_3.append(row, ignore_index=True)\n",
    "\n",
    "hc_pep = peptide.pacbio_hybrid_peptide[peptide.pacbio_hybrid_peptide['is_high_confidence']]\n",
    "hc_pg = protein_group.pacbio_hybrid_protein_group[protein_group.pacbio_hybrid_protein_group['is_high_confidence']]\n",
    "hc_genes = data_loader.genes_in_hiconf_space.intersection(get_genes(hc_pg))\n",
    "row = {\n",
    "    'Protein database' : 'PacBio Hybrid',\n",
    "    'Peptides' : len(hc_pep),\n",
    "    'Protein Groups' : len(hc_pg),\n",
    "    'Genes' : len(hc_genes),\n",
    "    'Gene space' : 'High confidence space (HC space)'\n",
    "}\n",
    "supp_table_3 = supp_table_3.append(row, ignore_index=True)\n",
    "supp_table_3.to_csv('stats/SuppTable3.tsv', sep = '\\t', index=False)\n"
   ]
  },
  {
   "cell_type": "code",
   "execution_count": 6,
   "metadata": {},
   "outputs": [
    {
     "output_type": "execute_result",
     "data": {
      "text/plain": [
       "  Protein database Peptides Protein Groups Genes  \\\n",
       "0          GENCODE    76255           7717  7666   \n",
       "1          UniProt    76718           7623  7524   \n",
       "2    PacBio Hybrid    75750           7702  7641   \n",
       "3          GENCODE    52341           5120  4942   \n",
       "4          UniProt    52494           5049  4927   \n",
       "5    PacBio Hybrid    51754           5100  4914   \n",
       "\n",
       "                         Gene space  \n",
       "0          All protein-coding genes  \n",
       "1          All protein-coding genes  \n",
       "2          All protein-coding genes  \n",
       "3  High confidence space (HC space)  \n",
       "4  High confidence space (HC space)  \n",
       "5  High confidence space (HC space)  "
      ],
      "text/html": "<div>\n<style scoped>\n    .dataframe tbody tr th:only-of-type {\n        vertical-align: middle;\n    }\n\n    .dataframe tbody tr th {\n        vertical-align: top;\n    }\n\n    .dataframe thead th {\n        text-align: right;\n    }\n</style>\n<table border=\"1\" class=\"dataframe\">\n  <thead>\n    <tr style=\"text-align: right;\">\n      <th></th>\n      <th>Protein database</th>\n      <th>Peptides</th>\n      <th>Protein Groups</th>\n      <th>Genes</th>\n      <th>Gene space</th>\n    </tr>\n  </thead>\n  <tbody>\n    <tr>\n      <th>0</th>\n      <td>GENCODE</td>\n      <td>76255</td>\n      <td>7717</td>\n      <td>7666</td>\n      <td>All protein-coding genes</td>\n    </tr>\n    <tr>\n      <th>1</th>\n      <td>UniProt</td>\n      <td>76718</td>\n      <td>7623</td>\n      <td>7524</td>\n      <td>All protein-coding genes</td>\n    </tr>\n    <tr>\n      <th>2</th>\n      <td>PacBio Hybrid</td>\n      <td>75750</td>\n      <td>7702</td>\n      <td>7641</td>\n      <td>All protein-coding genes</td>\n    </tr>\n    <tr>\n      <th>3</th>\n      <td>GENCODE</td>\n      <td>52341</td>\n      <td>5120</td>\n      <td>4942</td>\n      <td>High confidence space (HC space)</td>\n    </tr>\n    <tr>\n      <th>4</th>\n      <td>UniProt</td>\n      <td>52494</td>\n      <td>5049</td>\n      <td>4927</td>\n      <td>High confidence space (HC space)</td>\n    </tr>\n    <tr>\n      <th>5</th>\n      <td>PacBio Hybrid</td>\n      <td>51754</td>\n      <td>5100</td>\n      <td>4914</td>\n      <td>High confidence space (HC space)</td>\n    </tr>\n  </tbody>\n</table>\n</div>"
     },
     "metadata": {},
     "execution_count": 6
    }
   ],
   "source": [
    "supp_table_3"
   ]
  },
  {
   "cell_type": "code",
   "execution_count": 12,
   "metadata": {},
   "outputs": [],
   "source": [
    "hc_pep = peptide.gencode_peptide[peptide.gencode_peptide['is_high_confidence']]"
   ]
  },
  {
   "cell_type": "code",
   "execution_count": 8,
   "metadata": {},
   "outputs": [
    {
     "output_type": "execute_result",
     "data": {
      "text/plain": [
       "52341"
      ]
     },
     "metadata": {},
     "execution_count": 8
    }
   ],
   "source": [
    "len(hc_pep)"
   ]
  },
  {
   "cell_type": "code",
   "execution_count": 13,
   "metadata": {},
   "outputs": [],
   "source": [
    "gencode_peptides = peptide.gencode_peptide[peptide.gencode_peptide['is_high_confidence']]\n",
    "gencode_peptide_set = set(gencode_peptides['Full Sequence'].unique())"
   ]
  },
  {
   "cell_type": "code",
   "execution_count": 14,
   "metadata": {},
   "outputs": [
    {
     "output_type": "execute_result",
     "data": {
      "text/plain": [
       "52341"
      ]
     },
     "metadata": {},
     "execution_count": 14
    }
   ],
   "source": [
    "len(gencode_peptide_set)"
   ]
  },
  {
   "cell_type": "code",
   "execution_count": null,
   "metadata": {},
   "outputs": [],
   "source": []
  }
 ]
}