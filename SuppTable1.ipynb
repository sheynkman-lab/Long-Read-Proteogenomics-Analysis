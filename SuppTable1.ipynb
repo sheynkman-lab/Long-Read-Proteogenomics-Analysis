{
 "cells": [
  {
   "cell_type": "markdown",
   "metadata": {},
   "source": [
    "# Enhanced protein isoform characterization through long-read proteogenomics \n",
    "## Supplementary Table 1\n",
    "---\n",
    "Ben Jordan"
   ]
  },
  {
   "cell_type": "code",
   "execution_count": 1,
   "metadata": {},
   "outputs": [],
   "source": [
    "import pandas as pd \n",
    "import config\n",
    "filtered_protein_file = f'{config.PIPELINE_RESULTS_DIRECTORY}/protein_filter/{config.EXPERIMENT_NAME}.classification_filtered.tsv' # filtered protein file\n",
    "\n",
    "protein_db = pd.read_table(filtered_protein_file)"
   ]
  },
  {
   "cell_type": "code",
   "execution_count": 2,
   "metadata": {},
   "outputs": [],
   "source": [
    "def get_nterm_status(psubclass):\n",
    "    if 'novel_nterm' in psubclass:\n",
    "        return 'Novel'\n",
    "    return 'Known'\n",
    "def get_splice_status(psubclass):\n",
    "    if 'known_splice' in psubclass:\n",
    "        return 'Known'\n",
    "    if 'combo_splice' in psubclass:\n",
    "        return 'Combo'\n",
    "    if 'novel_splice' in psubclass:\n",
    "        return 'Novel'\n",
    "    if 'combo_nterm_cterm' == psubclass:\n",
    "        return 'Known'\n",
    "    if 'mono-exon' == psubclass:\n",
    "        return '-'\n",
    "\n",
    "def get_cterm_status(psubclass):\n",
    "    if 'novel_cterm' in psubclass:\n",
    "        return 'Novel'\n",
    "    return 'Known'\n",
    "\n",
    "protein_db['N-terminus'] = protein_db['psubclass'].apply(get_nterm_status)\n",
    "protein_db['Splicing'] = protein_db['psubclass'].apply(get_splice_status)\n",
    "protein_db['C-terminus'] = protein_db['psubclass'].apply(get_cterm_status)\n",
    "\n"
   ]
  },
  {
   "cell_type": "code",
   "execution_count": 3,
   "metadata": {},
   "outputs": [],
   "source": [
    "supp_table_1 = protein_db.groupby(['pclass', 'N-terminus','Splicing','C-terminus']).size().reset_index(name='Number of protein isoforms')\n",
    "\n",
    "supp_table_1['Note'] = '-'\n",
    "supp_table_1.at[3,'Note'] = 'Novel combo of N/C-term'\n",
    "\n",
    "supp_table_1 = supp_table_1.reindex([1,0,3,2,4,5,6,7,8,9,10,11,12,13])\n",
    "supp_table_1 = supp_table_1.rename(columns={'pclass':'SQANTI Protein class'})\n",
    "supp_table_1  = supp_table_1[['SQANTI Protein class', 'N-terminus', 'Splicing', 'C-terminus', 'Note', 'Number of protein isoforms']]\n",
    "\n",
    "supp_table_1.to_csv('stats/SuppTable1.tsv', sep = '\\t', index= False)"
   ]
  },
  {
   "cell_type": "code",
   "execution_count": 38,
   "metadata": {},
   "outputs": [],
   "source": []
  },
  {
   "cell_type": "code",
   "execution_count": null,
   "metadata": {},
   "outputs": [],
   "source": []
  }
 ],
 "metadata": {
  "interpreter": {
   "hash": "881fb57dbf4e06d06560f60b9634050b68a361a8a6120526ec157f8aab4b976e"
  },
  "kernelspec": {
   "display_name": "Python 3.8.8 64-bit ('lrpg': conda)",
   "name": "python3"
  },
  "language_info": {
   "codemirror_mode": {
    "name": "ipython",
    "version": 3
   },
   "file_extension": ".py",
   "mimetype": "text/x-python",
   "name": "python",
   "nbconvert_exporter": "python",
   "pygments_lexer": "ipython3",
   "version": "3.8.8"
  },
  "orig_nbformat": 4
 },
 "nbformat": 4,
 "nbformat_minor": 2
}
