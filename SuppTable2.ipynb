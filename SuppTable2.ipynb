{
 "metadata": {
  "language_info": {
   "codemirror_mode": {
    "name": "ipython",
    "version": 3
   },
   "file_extension": ".py",
   "mimetype": "text/x-python",
   "name": "python",
   "nbconvert_exporter": "python",
   "pygments_lexer": "ipython3",
   "version": "3.8.8"
  },
  "orig_nbformat": 4,
  "kernelspec": {
   "name": "python3",
   "display_name": "Python 3.8.8 64-bit ('lrpg': conda)"
  },
  "interpreter": {
   "hash": "881fb57dbf4e06d06560f60b9634050b68a361a8a6120526ec157f8aab4b976e"
  }
 },
 "nbformat": 4,
 "nbformat_minor": 2,
 "cells": [
  {
   "source": [
    "# Enhanced protein isoform characterization through long-read proteogenomics \n",
    "## Supplementary Table 2\n",
    "---\n",
    "Ben Jordan"
   ],
   "cell_type": "markdown",
   "metadata": {}
  },
  {
   "cell_type": "code",
   "execution_count": 1,
   "metadata": {},
   "outputs": [],
   "source": [
    "import pandas as pd \n",
    "import config\n",
    "filtered_protein_file = f'{config.PIPELINE_RESULTS_DIRECTORY}/protein_filter/jurkat.classification_filtered.tsv' # filtered protein file\n",
    "sqanti_info_file = f\"{config.PIPELINE_RESULTS_DIRECTORY}/transcriptome_summary/sqanti_isoform_info.tsv\"\n",
    "\n",
    "protein_db = pd.read_table(filtered_protein_file)\n",
    "sqanti_info = pd.read_table(sqanti_info_file)\n",
    "\n",
    "protein_db = protein_db.merge(sqanti_info[['pb_acc', 'cat']], left_on='pb', right_on='pb_acc', how = 'left')"
   ]
  },
  {
   "cell_type": "code",
   "execution_count": 5,
   "metadata": {},
   "outputs": [],
   "source": []
  },
  {
   "cell_type": "code",
   "execution_count": 2,
   "metadata": {},
   "outputs": [],
   "source": [
    "supp_table_2 = protein_db.groupby(['cat', 'pclass']).size().reset_index(name='Number of isoforms')\n",
    "supp_table_2 = supp_table_2.rename(columns = {\n",
    "    'cat': 'SQANTI3 transcript isoform class',\n",
    "    'pclass' : 'SQANTI Protein isoform class'})"
   ]
  },
  {
   "cell_type": "code",
   "execution_count": 3,
   "metadata": {},
   "outputs": [],
   "source": [
    "supp_table_2.to_csv('stats/SuppTable2.tsv', sep='\\t', index=False)"
   ]
  },
  {
   "cell_type": "code",
   "execution_count": 13,
   "metadata": {},
   "outputs": [],
   "source": []
  },
  {
   "cell_type": "code",
   "execution_count": null,
   "metadata": {},
   "outputs": [],
   "source": []
  }
 ]
}