{
 "cells": [
  {
   "cell_type": "code",
   "execution_count": 1,
   "metadata": {},
   "outputs": [],
   "source": [
    "\n",
    "import matplotlib_venn\n",
    "import pandas as pd\n",
    "from matplotlib_venn import venn2\n",
    "import matplotlib.pyplot as plt\n",
    "from Bio import SeqIO\n",
    "from collections import defaultdict\n",
    "\n",
    "def read_transdecoder_nucleotides_file(transdecoder_nucleotides_file):\n",
    "    transdecorder_sequences = {}\n",
    "    for record in SeqIO.parse(transdecoder_nucleotides_file, 'fasta'):\n",
    "        acc = record.id.split('.')[:-1]\n",
    "        acc = '.'.join(acc)\n",
    "        transdecorder_sequences[acc] = record.seq\n",
    "    return transdecorder_sequences\n",
    "\n",
    "def read_cpat_nucleotides_file(cpat_best_file, cpat_nucleotides_file):\n",
    "    cpat_best = pd.read_table(cpat_best_file)\n",
    "    best_orfs = set(cpat_best['ID'])\n",
    "    cpat_sequences = {}\n",
    "    for record in SeqIO.parse(cpat_nucleotides_file,'fasta'):\n",
    "        if record.id in best_orfs:\n",
    "            accession = record.id.split('_')[0]\n",
    "            cpat_sequences[accession] = record.seq\n",
    "    return cpat_sequences\n",
    "\n",
    "def compare_sequences(cpat, transdecoder):\n",
    "    comparisons = []\n",
    "    accessions = set(cpat.keys()).union(set(transdecoder.keys()))\n",
    "    for accession in accessions:\n",
    "        accession_comparison = ''\n",
    "        if accession not in cpat.keys():\n",
    "            accession_comparison = 'not_found_in_cpat'\n",
    "        elif accession not in transdecoder.keys():\n",
    "            accession_comparison = 'not_found_in_transdecoder'\n",
    "        elif cpat[accession] == transdecoder[accession]:\n",
    "            accession_comparison = 'same_orf_called'\n",
    "        else:\n",
    "            accession_comparison = 'different_orfs_called'\n",
    "        comparisons.append([accession, accession_comparison])\n",
    "    comparisons = pd.DataFrame(comparisons, columns=['PacBio Accession','Comparison'])\n",
    "    return comparisons\n"
   ]
  },
  {
   "cell_type": "code",
   "execution_count": 41,
   "metadata": {},
   "outputs": [
    {
     "name": "stderr",
     "output_type": "stream",
     "text": [
      "<ipython-input-41-833ddc4f6162>:30: SettingWithCopyWarning: \n",
      "A value is trying to be set on a copy of a slice from a DataFrame.\n",
      "Try using .loc[row_indexer,col_indexer] = value instead\n",
      "\n",
      "See the caveats in the documentation: https://pandas.pydata.org/pandas-docs/stable/user_guide/indexing.html#returning-a-view-versus-a-copy\n",
      "  different_orfs['transdecoder_sequence_found_in_cpat'] = different_orfs['PacBio Accession'].apply(lambda acc: transdecoder_orf_found_in_cpat(acc, transdecorder_sequences, cpat_full))\n"
     ]
    }
   ],
   "source": [
    "\n",
    "transdecoder_nucleotides_file = '/Users/bj8th/Documents/Sheynkman-Lab/GitHub/Long-Read-Proteogenomics-Analysis/revisions/transdecoder/analysis/jurkat_corrected.5degfilter.fasta.transdecoder.cds'\n",
    "cpat_best_file = '/Users/bj8th/Documents/Sheynkman-Lab/Data/JURKAT_06-06-2021/cpat/jurkat.ORF_prob.best.tsv'\n",
    "cpat_nucleotides_file = '/Users/bj8th/Documents/Sheynkman-Lab/Data/JURKAT_06-06-2021/cpat/jurkat.ORF_seqs.fa'\n",
    "sqanti_classifications_file = '/Users/bj8th/Documents/Sheynkman-Lab/Data/JURKAT_06-06-2021/sqanti3-filtered/jurkat_classification.5degfilter.tsv'\n",
    "\n",
    "transdecorder_sequences = read_transdecoder_nucleotides_file(transdecoder_nucleotides_file)\n",
    "cpat_sequences = read_cpat_nucleotides_file(cpat_best_file, cpat_nucleotides_file)\n",
    "\n",
    "comparisions = compare_sequences(cpat_sequences, transdecorder_sequences)\n",
    "\n",
    "\n",
    "def get_all_cpat_orfs(cpat_nucleotides_file):\n",
    "    cpat_sequences = defaultdict(list)\n",
    "    for record in SeqIO.parse(cpat_nucleotides_file,'fasta'):\n",
    "        accession = record.id.split('_')[0]\n",
    "        cpat_sequences[accession].append(str(record.seq))\n",
    "    return cpat_sequences\n",
    "\n",
    "def transdecoder_orf_found_in_cpat(accession, transdecoder, cpat_full):\n",
    "    transdecoder_seq = str(transdecoder[accession])\n",
    "\n",
    "    return transdecoder_seq in cpat_full[accession]\n",
    "comparisions['cpat_start'] = comparisions['PacBio Accession'].apply(lambda acc: str(cpat_sequences[acc][:3]) if acc in cpat_sequences.keys() else 'N/A')\n",
    "comparisions['transdecoder_start'] = comparisions['PacBio Accession'].apply(lambda acc: str(transdecorder_sequences[acc][:3]) if acc in transdecorder_sequences.keys() else 'N/A')\n",
    "classification = pd.read_table(sqanti_classifications_file)\n",
    "comparisions = comparisions.merge(classification[['isoform', 'structural_category']], left_on='PacBio Accession', right_on='isoform')\n",
    "cpat_full = get_all_cpat_orfs(cpat_nucleotides_file)\n",
    "\n",
    "different_orfs = comparisions[comparisions['Comparison'] =='different_orfs_called']\n",
    "different_orfs['transdecoder_sequence_found_in_cpat'] = different_orfs['PacBio Accession'].apply(lambda acc: transdecoder_orf_found_in_cpat(acc, transdecorder_sequences, cpat_full))\n"
   ]
  },
  {
   "cell_type": "code",
   "execution_count": 42,
   "metadata": {},
   "outputs": [],
   "source": [
    "not_found_in_cpat = different_orfs[~different_orfs['transdecoder_sequence_found_in_cpat']]"
   ]
  },
  {
   "cell_type": "code",
   "execution_count": 43,
   "metadata": {},
   "outputs": [
    {
     "data": {
      "text/plain": [
       "structural_category\n",
       "full-splice_match          11207\n",
       "incomplete-splice_match     6643\n",
       "novel_in_catalog           10893\n",
       "novel_not_in_catalog        8150\n",
       "dtype: int64"
      ]
     },
     "execution_count": 43,
     "metadata": {},
     "output_type": "execute_result"
    }
   ],
   "source": [
    "not_found_in_cpat.groupby('structural_category').size()"
   ]
  },
  {
   "cell_type": "code",
   "execution_count": 23,
   "metadata": {},
   "outputs": [
    {
     "name": "stderr",
     "output_type": "stream",
     "text": [
      "<ipython-input-23-7d04d8183d40>:1: SettingWithCopyWarning: \n",
      "A value is trying to be set on a copy of a slice from a DataFrame.\n",
      "Try using .loc[row_indexer,col_indexer] = value instead\n",
      "\n",
      "See the caveats in the documentation: https://pandas.pydata.org/pandas-docs/stable/user_guide/indexing.html#returning-a-view-versus-a-copy\n",
      "  not_found_in_cpat['transdecoder_start'] = not_found_in_cpat['PacBio Accession'].apply(lambda acc: str(transdecorder_sequences[acc][:3]))\n",
      "<ipython-input-23-7d04d8183d40>:2: SettingWithCopyWarning: \n",
      "A value is trying to be set on a copy of a slice from a DataFrame.\n",
      "Try using .loc[row_indexer,col_indexer] = value instead\n",
      "\n",
      "See the caveats in the documentation: https://pandas.pydata.org/pandas-docs/stable/user_guide/indexing.html#returning-a-view-versus-a-copy\n",
      "  not_found_in_cpat['transdecoder_ATG'] = not_found_in_cpat['start'].apply(lambda start: start =='ATG')\n"
     ]
    },
    {
     "data": {
      "text/plain": [
       "transdecoder_ATG\n",
       "False    0.725151\n",
       "True     0.274849\n",
       "dtype: float64"
      ]
     },
     "execution_count": 23,
     "metadata": {},
     "output_type": "execute_result"
    }
   ],
   "source": [
    "not_found_in_cpat['transdecoder_start'] = not_found_in_cpat['PacBio Accession'].apply(lambda acc: str(transdecorder_sequences[acc][:3]) if acc in transdecorder_sequences.keys() else 'N/A')\n",
    "not_found_in_cpat['transdecoder_ATG'] = not_found_in_cpat['start'].apply(lambda start: start =='ATG')\n",
    "not_found_in_cpat.groupby('transdecoder_ATG').size().sort_values(ascending=False) / len(not_found_in_cpat)"
   ]
  },
  {
   "cell_type": "code",
   "execution_count": 24,
   "metadata": {},
   "outputs": [
    {
     "data": {
      "text/plain": [
       "transdecoder_start\n",
       "ATG    10140\n",
       "GGC     1212\n",
       "GAG     1209\n",
       "GGG     1143\n",
       "GCG     1087\n",
       "       ...  \n",
       "ATA       90\n",
       "CTA       83\n",
       "TTA       83\n",
       "TAC       75\n",
       "TAT       52\n",
       "Length: 61, dtype: int64"
      ]
     },
     "execution_count": 24,
     "metadata": {},
     "output_type": "execute_result"
    }
   ],
   "source": [
    "not_found_in_cpat.groupby('transdecoder_start').size().sort_values(ascending=False)"
   ]
  },
  {
   "cell_type": "code",
   "execution_count": 22,
   "metadata": {},
   "outputs": [
    {
     "data": {
      "text/plain": [
       "cpat_start\n",
       "ATG    139734\n",
       "N/A         8\n",
       "dtype: int64"
      ]
     },
     "execution_count": 22,
     "metadata": {},
     "output_type": "execute_result"
    }
   ],
   "source": [
    "\n",
    "\n",
    "comparisions.groupby('cpat_start').size()"
   ]
  },
  {
   "cell_type": "code",
   "execution_count": 40,
   "metadata": {},
   "outputs": [],
   "source": []
  },
  {
   "cell_type": "code",
   "execution_count": 34,
   "metadata": {},
   "outputs": [],
   "source": []
  },
  {
   "cell_type": "code",
   "execution_count": 35,
   "metadata": {},
   "outputs": [
    {
     "data": {
      "text/plain": [
       "Comparison                 structural_category    \n",
       "different_orfs_called      full-splice_match          11985\n",
       "                           incomplete-splice_match     7317\n",
       "                           novel_in_catalog           13158\n",
       "                           novel_not_in_catalog        9379\n",
       "not_found_in_cpat          full-splice_match              3\n",
       "                           incomplete-splice_match        1\n",
       "                           novel_in_catalog               3\n",
       "                           novel_not_in_catalog           1\n",
       "not_found_in_transdecoder  full-splice_match            181\n",
       "                           incomplete-splice_match      150\n",
       "                           novel_in_catalog             363\n",
       "                           novel_not_in_catalog         135\n",
       "same_orf_called            full-splice_match          31696\n",
       "                           incomplete-splice_match    12918\n",
       "                           novel_in_catalog           29551\n",
       "                           novel_not_in_catalog       22901\n",
       "dtype: int64"
      ]
     },
     "execution_count": 35,
     "metadata": {},
     "output_type": "execute_result"
    }
   ],
   "source": [
    "comparisions.groupby(['Comparison', 'structural_category']).size()"
   ]
  },
  {
   "cell_type": "code",
   "execution_count": 47,
   "metadata": {},
   "outputs": [
    {
     "data": {
      "text/plain": [
       "Comparison\n",
       "different_orfs_called    0.134514\n",
       "same_orf_called          0.865486\n",
       "dtype: float64"
      ]
     },
     "execution_count": 47,
     "metadata": {},
     "output_type": "execute_result"
    }
   ],
   "source": [
    "cpat_atg = comparisions['cpat_start'] =='ATG'\n",
    "tcoder_atg = comparisions['transdecoder_start'] =='ATG'\n",
    "atg_start = comparisions[cpat_atg & tcoder_atg]\n",
    "atg_start.groupby(['Comparison',]).size() / len(atg_start)"
   ]
  },
  {
   "cell_type": "code",
   "execution_count": 49,
   "metadata": {},
   "outputs": [
    {
     "name": "stderr",
     "output_type": "stream",
     "text": [
      "<ipython-input-49-c388b0b02761>:2: SettingWithCopyWarning: \n",
      "A value is trying to be set on a copy of a slice from a DataFrame.\n",
      "Try using .loc[row_indexer,col_indexer] = value instead\n",
      "\n",
      "See the caveats in the documentation: https://pandas.pydata.org/pandas-docs/stable/user_guide/indexing.html#returning-a-view-versus-a-copy\n",
      "  atg_diff['transdecoder_sequence_found_in_cpat'] = atg_diff['PacBio Accession'].apply(lambda acc: transdecoder_orf_found_in_cpat(acc, transdecorder_sequences, cpat_full))\n"
     ]
    },
    {
     "data": {
      "text/plain": [
       "transdecoder_sequence_found_in_cpat\n",
       "False    10140\n",
       "True      4946\n",
       "dtype: int64"
      ]
     },
     "execution_count": 49,
     "metadata": {},
     "output_type": "execute_result"
    }
   ],
   "source": [
    "atg_diff = atg_start[atg_start['Comparison'] =='different_orfs_called']\n",
    "atg_diff['transdecoder_sequence_found_in_cpat'] = atg_diff['PacBio Accession'].apply(lambda acc: transdecoder_orf_found_in_cpat(acc, transdecorder_sequences, cpat_full))\n",
    "atg_diff.groupby('transdecoder_sequence_found_in_cpat').size()"
   ]
  },
  {
   "cell_type": "code",
   "execution_count": 50,
   "metadata": {},
   "outputs": [
    {
     "data": {
      "text/html": [
       "<div>\n",
       "<style scoped>\n",
       "    .dataframe tbody tr th:only-of-type {\n",
       "        vertical-align: middle;\n",
       "    }\n",
       "\n",
       "    .dataframe tbody tr th {\n",
       "        vertical-align: top;\n",
       "    }\n",
       "\n",
       "    .dataframe thead th {\n",
       "        text-align: right;\n",
       "    }\n",
       "</style>\n",
       "<table border=\"1\" class=\"dataframe\">\n",
       "  <thead>\n",
       "    <tr style=\"text-align: right;\">\n",
       "      <th></th>\n",
       "      <th>PacBio Accession</th>\n",
       "      <th>Comparison</th>\n",
       "      <th>cpat_start</th>\n",
       "      <th>transdecoder_start</th>\n",
       "      <th>isoform</th>\n",
       "      <th>structural_category</th>\n",
       "      <th>transdecoder_sequence_found_in_cpat</th>\n",
       "    </tr>\n",
       "  </thead>\n",
       "  <tbody>\n",
       "    <tr>\n",
       "      <th>11</th>\n",
       "      <td>PB.13770.3</td>\n",
       "      <td>different_orfs_called</td>\n",
       "      <td>ATG</td>\n",
       "      <td>ATG</td>\n",
       "      <td>PB.13770.3</td>\n",
       "      <td>full-splice_match</td>\n",
       "      <td>False</td>\n",
       "    </tr>\n",
       "    <tr>\n",
       "      <th>12</th>\n",
       "      <td>PB.12581.48</td>\n",
       "      <td>different_orfs_called</td>\n",
       "      <td>ATG</td>\n",
       "      <td>ATG</td>\n",
       "      <td>PB.12581.48</td>\n",
       "      <td>novel_in_catalog</td>\n",
       "      <td>False</td>\n",
       "    </tr>\n",
       "    <tr>\n",
       "      <th>17</th>\n",
       "      <td>PB.15151.4</td>\n",
       "      <td>different_orfs_called</td>\n",
       "      <td>ATG</td>\n",
       "      <td>ATG</td>\n",
       "      <td>PB.15151.4</td>\n",
       "      <td>novel_not_in_catalog</td>\n",
       "      <td>True</td>\n",
       "    </tr>\n",
       "    <tr>\n",
       "      <th>21</th>\n",
       "      <td>PB.9118.14</td>\n",
       "      <td>different_orfs_called</td>\n",
       "      <td>ATG</td>\n",
       "      <td>ATG</td>\n",
       "      <td>PB.9118.14</td>\n",
       "      <td>novel_in_catalog</td>\n",
       "      <td>True</td>\n",
       "    </tr>\n",
       "    <tr>\n",
       "      <th>24</th>\n",
       "      <td>PB.5982.36</td>\n",
       "      <td>different_orfs_called</td>\n",
       "      <td>ATG</td>\n",
       "      <td>ATG</td>\n",
       "      <td>PB.5982.36</td>\n",
       "      <td>novel_in_catalog</td>\n",
       "      <td>False</td>\n",
       "    </tr>\n",
       "    <tr>\n",
       "      <th>...</th>\n",
       "      <td>...</td>\n",
       "      <td>...</td>\n",
       "      <td>...</td>\n",
       "      <td>...</td>\n",
       "      <td>...</td>\n",
       "      <td>...</td>\n",
       "      <td>...</td>\n",
       "    </tr>\n",
       "    <tr>\n",
       "      <th>139729</th>\n",
       "      <td>PB.14427.1</td>\n",
       "      <td>different_orfs_called</td>\n",
       "      <td>ATG</td>\n",
       "      <td>ATG</td>\n",
       "      <td>PB.14427.1</td>\n",
       "      <td>full-splice_match</td>\n",
       "      <td>True</td>\n",
       "    </tr>\n",
       "    <tr>\n",
       "      <th>139730</th>\n",
       "      <td>PB.14276.17</td>\n",
       "      <td>different_orfs_called</td>\n",
       "      <td>ATG</td>\n",
       "      <td>ATG</td>\n",
       "      <td>PB.14276.17</td>\n",
       "      <td>novel_not_in_catalog</td>\n",
       "      <td>False</td>\n",
       "    </tr>\n",
       "    <tr>\n",
       "      <th>139733</th>\n",
       "      <td>PB.12350.10</td>\n",
       "      <td>different_orfs_called</td>\n",
       "      <td>ATG</td>\n",
       "      <td>ATG</td>\n",
       "      <td>PB.12350.10</td>\n",
       "      <td>novel_in_catalog</td>\n",
       "      <td>False</td>\n",
       "    </tr>\n",
       "    <tr>\n",
       "      <th>139735</th>\n",
       "      <td>PB.15552.6</td>\n",
       "      <td>different_orfs_called</td>\n",
       "      <td>ATG</td>\n",
       "      <td>ATG</td>\n",
       "      <td>PB.15552.6</td>\n",
       "      <td>novel_in_catalog</td>\n",
       "      <td>False</td>\n",
       "    </tr>\n",
       "    <tr>\n",
       "      <th>139741</th>\n",
       "      <td>PB.13514.25</td>\n",
       "      <td>different_orfs_called</td>\n",
       "      <td>ATG</td>\n",
       "      <td>ATG</td>\n",
       "      <td>PB.13514.25</td>\n",
       "      <td>novel_in_catalog</td>\n",
       "      <td>False</td>\n",
       "    </tr>\n",
       "  </tbody>\n",
       "</table>\n",
       "<p>15086 rows × 7 columns</p>\n",
       "</div>"
      ],
      "text/plain": [
       "       PacBio Accession             Comparison cpat_start transdecoder_start  \\\n",
       "11           PB.13770.3  different_orfs_called        ATG                ATG   \n",
       "12          PB.12581.48  different_orfs_called        ATG                ATG   \n",
       "17           PB.15151.4  different_orfs_called        ATG                ATG   \n",
       "21           PB.9118.14  different_orfs_called        ATG                ATG   \n",
       "24           PB.5982.36  different_orfs_called        ATG                ATG   \n",
       "...                 ...                    ...        ...                ...   \n",
       "139729       PB.14427.1  different_orfs_called        ATG                ATG   \n",
       "139730      PB.14276.17  different_orfs_called        ATG                ATG   \n",
       "139733      PB.12350.10  different_orfs_called        ATG                ATG   \n",
       "139735       PB.15552.6  different_orfs_called        ATG                ATG   \n",
       "139741      PB.13514.25  different_orfs_called        ATG                ATG   \n",
       "\n",
       "            isoform   structural_category  transdecoder_sequence_found_in_cpat  \n",
       "11       PB.13770.3     full-splice_match                                False  \n",
       "12      PB.12581.48      novel_in_catalog                                False  \n",
       "17       PB.15151.4  novel_not_in_catalog                                 True  \n",
       "21       PB.9118.14      novel_in_catalog                                 True  \n",
       "24       PB.5982.36      novel_in_catalog                                False  \n",
       "...             ...                   ...                                  ...  \n",
       "139729   PB.14427.1     full-splice_match                                 True  \n",
       "139730  PB.14276.17  novel_not_in_catalog                                False  \n",
       "139733  PB.12350.10      novel_in_catalog                                False  \n",
       "139735   PB.15552.6      novel_in_catalog                                False  \n",
       "139741  PB.13514.25      novel_in_catalog                                False  \n",
       "\n",
       "[15086 rows x 7 columns]"
      ]
     },
     "execution_count": 50,
     "metadata": {},
     "output_type": "execute_result"
    }
   ],
   "source": []
  },
  {
   "cell_type": "code",
   "execution_count": 53,
   "metadata": {},
   "outputs": [
    {
     "data": {
      "text/plain": [
       "285"
      ]
     },
     "execution_count": 53,
     "metadata": {},
     "output_type": "execute_result"
    }
   ],
   "source": [
    "len(cpat_sequences['PB.13770.3'])"
   ]
  },
  {
   "cell_type": "code",
   "execution_count": 54,
   "metadata": {},
   "outputs": [
    {
     "data": {
      "text/plain": [
       "678"
      ]
     },
     "execution_count": 54,
     "metadata": {},
     "output_type": "execute_result"
    }
   ],
   "source": [
    "len(transdecorder_sequences['PB.13770.3'])"
   ]
  },
  {
   "cell_type": "code",
   "execution_count": 58,
   "metadata": {},
   "outputs": [
    {
     "name": "stdout",
     "output_type": "stream",
     "text": [
      "subset\n",
      "subset\n",
      "subset\n",
      "subset\n",
      "subset\n",
      "subset\n",
      "subset\n",
      "subset\n",
      "subset\n",
      "subset\n",
      "subset\n",
      "subset\n",
      "subset\n",
      "subset\n"
     ]
    }
   ],
   "source": [
    "for seq in cpat_full['PB.13770.3']:\n",
    "    if seq in transdecorder_sequences['PB.13770.3']:\n",
    "        print('subset')"
   ]
  },
  {
   "cell_type": "code",
   "execution_count": 60,
   "metadata": {},
   "outputs": [
    {
     "data": {
      "text/plain": [
       "'perl /Users/bj8th/Documents/Sheynkman-Lab/GitHub/SQANTI3/utilities/gmst/gmst.pl -faa --strand direct --fnn --output /Users/bj8th/Documents/Sheynkman-Lab/GitHub/Long-Read-Proteogenomics-Analysis/revisions/gmst/results /Users/bj8th/Documents/Sheynkman-Lab/Data/JURKAT_06-06-2021/sqanti3-filtered/jurkat_corrected.5degfilter.fasta'"
      ]
     },
     "execution_count": 60,
     "metadata": {},
     "output_type": "execute_result"
    }
   ],
   "source": [
    "import os\n",
    "utilitiesPath = '/Users/bj8th/Documents/Sheynkman-Lab/GitHub/SQANTI3/utilities'\n",
    "GMSP_PROG = os.path.join(utilitiesPath, \"gmst\", \"gmst.pl\")\n",
    "GMST_CMD = \"perl \" + GMSP_PROG + \" -faa --strand direct --fnn --output {o} {i}\"\n",
    "input_fasta = '/Users/bj8th/Documents/Sheynkman-Lab/Data/JURKAT_06-06-2021/sqanti3-filtered/jurkat_corrected.5degfilter.fasta'\n",
    "output_dir = '/Users/bj8th/Documents/Sheynkman-Lab/GitHub/Long-Read-Proteogenomics-Analysis/revisions/gmst/results'\n",
    "cmd = GMST_CMD.format(i=os.path.realpath(input_fasta), o=output_dir)\n",
    "cmd"
   ]
  }
 ],
 "metadata": {
  "interpreter": {
   "hash": "2f40891b4156b07d6f7078c8cafe72a6146e3c2223ae724d19ed7912498cb5b1"
  },
  "kernelspec": {
   "display_name": "Python 3.8.8 64-bit ('lrpg': conda)",
   "language": "python",
   "name": "python3"
  },
  "language_info": {
   "codemirror_mode": {
    "name": "ipython",
    "version": 3
   },
   "file_extension": ".py",
   "mimetype": "text/x-python",
   "name": "python",
   "nbconvert_exporter": "python",
   "pygments_lexer": "ipython3",
   "version": "3.8.8"
  },
  "orig_nbformat": 4
 },
 "nbformat": 4,
 "nbformat_minor": 2
}
